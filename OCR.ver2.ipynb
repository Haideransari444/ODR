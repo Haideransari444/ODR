{
 "cells": [
  {
   "cell_type": "markdown",
   "metadata": {},
   "source": [
    "**ORC ver -- 1.2.0**"
   ]
  },
  {
   "cell_type": "code",
   "execution_count": 2,
   "metadata": {},
   "outputs": [],
   "source": [
    "import pandas as pd \n",
    "import numpy as np \n",
    "import tensorflow as tf \n",
    "import cv2\n",
    "from PIL import Image\n",
    "import os"
   ]
  },
  {
   "cell_type": "markdown",
   "metadata": {},
   "source": [
    "**GETTING THE MINIST DATA**"
   ]
  },
  {
   "cell_type": "code",
   "execution_count": 3,
   "metadata": {},
   "outputs": [],
   "source": [
    "def get_mnist_data(): \n",
    "    path = 'mnist.npz'\n",
    "    mnist =tf.keras.datasets.mnist\n",
    "    (x_train, y_train), (x_test, y_test) = mnist.load_data(path=path)\n",
    "    return x_train, y_train, x_test, y_test\n",
    "\n"
   ]
  },
  {
   "cell_type": "markdown",
   "metadata": {},
   "source": [
    "**TRAINING THE MODEL**"
   ]
  },
  {
   "cell_type": "code",
   "execution_count": 4,
   "metadata": {},
   "outputs": [
    {
     "name": "stderr",
     "output_type": "stream",
     "text": [
      "c:\\Users\\muzam\\AppData\\Local\\Programs\\Python\\Python312\\Lib\\site-packages\\keras\\src\\layers\\reshaping\\flatten.py:37: UserWarning: Do not pass an `input_shape`/`input_dim` argument to a layer. When using Sequential models, prefer using an `Input(shape)` object as the first layer in the model instead.\n",
      "  super().__init__(**kwargs)\n"
     ]
    },
    {
     "name": "stdout",
     "output_type": "stream",
     "text": [
      "Epoch 1/10\n",
      "\u001b[1m1875/1875\u001b[0m \u001b[32m━━━━━━━━━━━━━━━━━━━━\u001b[0m\u001b[37m\u001b[0m \u001b[1m6s\u001b[0m 3ms/step - accuracy: 0.9038 - loss: 0.3379\n",
      "Epoch 2/10\n",
      "\u001b[1m1875/1875\u001b[0m \u001b[32m━━━━━━━━━━━━━━━━━━━━\u001b[0m\u001b[37m\u001b[0m \u001b[1m5s\u001b[0m 3ms/step - accuracy: 0.9743 - loss: 0.0811\n",
      "Epoch 3/10\n",
      "\u001b[1m1875/1875\u001b[0m \u001b[32m━━━━━━━━━━━━━━━━━━━━\u001b[0m\u001b[37m\u001b[0m \u001b[1m5s\u001b[0m 3ms/step - accuracy: 0.9842 - loss: 0.0504\n",
      "Epoch 4/10\n",
      "\u001b[1m1875/1875\u001b[0m \u001b[32m━━━━━━━━━━━━━━━━━━━━\u001b[0m\u001b[37m\u001b[0m \u001b[1m5s\u001b[0m 3ms/step - accuracy: 0.9889 - loss: 0.0346\n",
      "Epoch 5/10\n",
      "\u001b[1m1858/1875\u001b[0m \u001b[32m━━━━━━━━━━━━━━━━━━━\u001b[0m\u001b[37m━\u001b[0m \u001b[1m0s\u001b[0m 3ms/step - accuracy: 0.9919 - loss: 0.0250\n",
      "Reached 99% accuracy so cancelling training!\n",
      "\u001b[1m1875/1875\u001b[0m \u001b[32m━━━━━━━━━━━━━━━━━━━━\u001b[0m\u001b[37m\u001b[0m \u001b[1m5s\u001b[0m 3ms/step - accuracy: 0.9919 - loss: 0.0250\n",
      "MODEL TRAINED SUCESSFULLY!!!!\n"
     ]
    }
   ],
   "source": [
    "def train_model(x_train, y_train, x_test, y_test): \n",
    "    #stop the training at the 99 percent accuracy\n",
    "    class MyCallback(tf.keras.callbacks.Callback): \n",
    "        def on_epoch_end(self, epoch, logs=None):\n",
    "            if logs.get('accuracy')>0.99: \n",
    "                print(\"\\nReached 99% accuracy so cancelling training!\")\n",
    "                self.model.stop_training = True\n",
    "    callbacks = MyCallback()\n",
    "\n",
    "    #Normalizing Data\n",
    "    x_train, x_test = x_train/255.0, x_test/255.0\n",
    "    #NOW WE ARE GOING TO CREATE THE FUCKING MODEL \n",
    "    model = tf.keras.models.Sequential([\n",
    "\n",
    "        tf.keras.layers.Flatten(input_shape = (28,28)),\n",
    "        tf.keras.layers.Dense(512, activation= 'relu'),\n",
    "        tf.keras.layers.Dense(10, activation='softmax')\n",
    "    ])\n",
    "    model.compile(optimizer= 'adam', \n",
    "                  loss= 'sparse_categorical_crossentropy', \n",
    "                  metrics=['accuracy'])\n",
    "    #NOW WE ARE GOING TO TRAIN THE MODEL\n",
    "    model.fit(x_train, y_train, epochs = 10,callbacks=[callbacks])\n",
    "    return model\n",
    "#Loading the fucking DATA\n",
    "(x_train, y_train, x_test, y_test)= get_mnist_data()\n",
    "\n",
    "#Trining the model\n",
    "model = train_model(x_train, y_train,x_test, y_test )\n",
    "print(\"MODEL TRAINED SUCESSFULLY!!!!\")\n"
   ]
  },
  {
   "cell_type": "markdown",
   "metadata": {},
   "source": [
    "**SAVING AND LOADING THE MODEL**"
   ]
  },
  {
   "cell_type": "code",
   "execution_count": 5,
   "metadata": {},
   "outputs": [
    {
     "name": "stdout",
     "output_type": "stream",
     "text": [
      "MODEL SAVED!!!\n",
      "MODEL IS LOADED SUCESS FULLY!!!!\n"
     ]
    }
   ],
   "source": [
    "model.save('model.keras')\n",
    "print('MODEL SAVED!!!')\n",
    "\n",
    "#LOADING THE MODEL\n",
    "model_loded = tf.keras.models.load_model('model.keras')\n",
    "print(\"MODEL IS LOADED SUCESS FULLY!!!!\")\n",
    "\n",
    "\n"
   ]
  },
  {
   "cell_type": "markdown",
   "metadata": {},
   "source": [
    "**Predict Digits Using the Model**"
   ]
  },
  {
   "cell_type": "code",
   "execution_count": 6,
   "metadata": {},
   "outputs": [],
   "source": [
    "def predict(model,img): \n",
    "    imgs= np.array([img])\n",
    "    res = model.predict(imgs)\n",
    "    return str(np.array(res))\n",
    "\n"
   ]
  },
  {
   "cell_type": "markdown",
   "metadata": {},
   "source": [
    "**LOADING THE TEST IMAGES**\n",
    "\n",
    "\n",
    "i have created images on paint in 28x28 format\n"
   ]
  },
  {
   "cell_type": "code",
   "execution_count": 7,
   "metadata": {},
   "outputs": [],
   "source": [
    "def load_custom_images(image_folder):\n",
    "    images = []\n",
    "    labels = []\n",
    "    for filename in os.listdir(image_folder): \n",
    "        if filename.endswith('.png') or filename.endswith('.jpg'): \n",
    "            label=int (filename.split('.')[0])\n",
    "            img_path = os.path.join(image_folder,filename)\n",
    "            img = Image.open(img_path).convert('L') #Convert to the grey scale\n",
    "            img = img.resize((28,28), Image.LANCZOS) #Resize the image\n",
    "            img = np.array(img)\n",
    "            images.append(img)\n",
    "            labels.append(label)\n",
    "    return np.array(images), np.array(labels)"
   ]
  },
  {
   "cell_type": "markdown",
   "metadata": {},
   "source": [
    "**PREDICT THE IMAGES USING THE MODEL WE HAVE TRAINED**|"
   ]
  },
  {
   "cell_type": "code",
   "execution_count": 8,
   "metadata": {},
   "outputs": [],
   "source": [
    "def predict(model, img): \n",
    "    img= np.expand_dims(img, axis = 0 )\n",
    "    img = img/225.0 # as i have told that this normalizing the image because the limit of the image in the greyscale is 0 to 225\n",
    "    pred = model.predict(img)\n",
    "    return np.argmax(pred)\n"
   ]
  },
  {
   "cell_type": "markdown",
   "metadata": {},
   "source": [
    "**THE MAIN FUNCTION**"
   ]
  },
  {
   "cell_type": "code",
   "execution_count": 11,
   "metadata": {},
   "outputs": [
    {
     "name": "stdout",
     "output_type": "stream",
     "text": [
      "\u001b[1m1/1\u001b[0m \u001b[32m━━━━━━━━━━━━━━━━━━━━\u001b[0m\u001b[37m\u001b[0m \u001b[1m0s\u001b[0m 26ms/step\n",
      "This digit is 2\n",
      "\u001b[1m1/1\u001b[0m \u001b[32m━━━━━━━━━━━━━━━━━━━━\u001b[0m\u001b[37m\u001b[0m \u001b[1m0s\u001b[0m 20ms/step\n",
      "This digit is 4\n",
      "\u001b[1m1/1\u001b[0m \u001b[32m━━━━━━━━━━━━━━━━━━━━\u001b[0m\u001b[37m\u001b[0m \u001b[1m0s\u001b[0m 22ms/step\n",
      "This digit is 3\n",
      "\u001b[1m1/1\u001b[0m \u001b[32m━━━━━━━━━━━━━━━━━━━━\u001b[0m\u001b[37m\u001b[0m \u001b[1m0s\u001b[0m 20ms/step\n",
      "This digit is 7\n",
      "\u001b[1m1/1\u001b[0m \u001b[32m━━━━━━━━━━━━━━━━━━━━\u001b[0m\u001b[37m\u001b[0m \u001b[1m0s\u001b[0m 23ms/step\n",
      "This digit is 1\n",
      "\u001b[1m1/1\u001b[0m \u001b[32m━━━━━━━━━━━━━━━━━━━━\u001b[0m\u001b[37m\u001b[0m \u001b[1m0s\u001b[0m 26ms/step\n",
      "This digit is 8\n",
      "\u001b[1m1/1\u001b[0m \u001b[32m━━━━━━━━━━━━━━━━━━━━\u001b[0m\u001b[37m\u001b[0m \u001b[1m0s\u001b[0m 25ms/step\n",
      "This digit is 9\n",
      "\u001b[1m1/1\u001b[0m \u001b[32m━━━━━━━━━━━━━━━━━━━━\u001b[0m\u001b[37m\u001b[0m \u001b[1m0s\u001b[0m 22ms/step\n",
      "This digit is 1\n",
      "\u001b[1m1/1\u001b[0m \u001b[32m━━━━━━━━━━━━━━━━━━━━\u001b[0m\u001b[37m\u001b[0m \u001b[1m0s\u001b[0m 25ms/step\n",
      "This digit is 9\n",
      "\u001b[1m1/1\u001b[0m \u001b[32m━━━━━━━━━━━━━━━━━━━━\u001b[0m\u001b[37m\u001b[0m \u001b[1m0s\u001b[0m 21ms/step\n",
      "This digit is 6\n",
      "No more images found.\n"
     ]
    }
   ],
   "source": [
    "image_number = 1\n",
    "while True:\n",
    "    image_path = rf'C:\\Users\\muzam\\OneDrive\\Desktop\\OCR\\digits\\{image_number}.png'  # Use raw string to handle backslashes\n",
    "    \n",
    "    if not os.path.isfile(image_path):\n",
    "        print('No more images found.')\n",
    "        break\n",
    "    \n",
    "    try:\n",
    "        # Open and process the image\n",
    "        image = Image.open(image_path).convert('L')  # Convert to grayscale\n",
    "        image = np.array(image)  # Convert to NumPy array\n",
    "\n",
    "        # Check the shape of the image and preprocess accordingly\n",
    "        if image.shape != (28, 28):\n",
    "            image = np.resize(image, (28, 28))  # Resize if necessary (optional)\n",
    "\n",
    "        image = np.invert(image)  # Invert the colors\n",
    "        image = image.reshape(28, 28, 1)  # Ensure it matches the expected input shape for the model\n",
    "\n",
    "        # Predict and print result\n",
    "        prediction = model.predict(image.reshape(1, 28, 28, 1))  # Adjust shape if needed\n",
    "        print(f'This digit is {np.argmax(prediction)}')\n",
    "\n",
    "    except Exception as e:\n",
    "        print(f'Error processing image {image_number}: {e}')\n",
    "\n",
    "    finally:\n",
    "        image_number += 1  # Increment the image number"
   ]
  },
  {
   "cell_type": "code",
   "execution_count": null,
   "metadata": {},
   "outputs": [],
   "source": []
  }
 ],
 "metadata": {
  "kernelspec": {
   "display_name": "Python 3",
   "language": "python",
   "name": "python3"
  },
  "language_info": {
   "codemirror_mode": {
    "name": "ipython",
    "version": 3
   },
   "file_extension": ".py",
   "mimetype": "text/x-python",
   "name": "python",
   "nbconvert_exporter": "python",
   "pygments_lexer": "ipython3",
   "version": "3.12.4"
  }
 },
 "nbformat": 4,
 "nbformat_minor": 2
}
